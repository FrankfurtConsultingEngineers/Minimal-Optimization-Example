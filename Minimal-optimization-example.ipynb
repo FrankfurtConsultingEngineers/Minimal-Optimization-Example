{
 "cells": [
  {
   "cell_type": "markdown",
   "metadata": {},
   "source": [
    "# Minimal optimization example\n",
    "Consider $N$ objects $i=0, ..., N-1$ with costs $C_i$. In this file, the object with minimal costs is determined on currently available quantum hardware (simulators). Adaptation to more complex cost functions is straightforward.\n",
    "\n",
    "The problem can be modeled as a minimization problem of binary variables $X_i\\in \\{0,1\\}$. $X_i$ is set to 1 if object $i$ is chosen and set to 0 if object $i$ is not chosen. The cost function depends on two terms: A term linear in the $X_i$ summing up the costs and a penalty term quadratic in the $X_i$ making sure that only one route is selected. The penalty value $P$ has to be higher than the sum of all costs.\n",
    "$$ \\sum_{i=0}^{N-1} C_i X_i + P \\left( \\sum_{i=0}^{N-1} X_i - 1 \\right)^2$$\n",
    "\n",
    "Note that one could easily find $i$ such that $C_i$ is minimal on a classical computer. This file merely illustrates the use of D-Wave's quantum annealing simulator and IBM's optimization module."
   ]
  },
  {
   "cell_type": "markdown",
   "metadata": {},
   "source": [
    "## Problem definition"
   ]
  },
  {
   "cell_type": "markdown",
   "metadata": {},
   "source": [
    "First, we implement the cost function in sympy. This allows to easily read out coefficients and to transfer them into the data structures of D-Wave and IBM."
   ]
  },
  {
   "cell_type": "code",
   "execution_count": 1,
   "metadata": {},
   "outputs": [
    {
     "data": {
      "text/latex": [
       "$\\displaystyle P \\left(\\sum_{i=0}^{N - 1} {X}_{i} - 1\\right)^{2} + \\sum_{i=0}^{N - 1} {C}_{i} {X}_{i}$"
      ],
      "text/plain": [
       "P*(Sum(X[i], (i, 0, N - 1)) - 1)**2 + Sum(C[i]*X[i], (i, 0, N - 1))"
      ]
     },
     "execution_count": 1,
     "metadata": {},
     "output_type": "execute_result"
    }
   ],
   "source": [
    "## Cost function specification in sympy\n",
    "## Specify your variables and cost function here\n",
    "\n",
    "import sympy as sym\n",
    "\n",
    "# number of objects\n",
    "N = sym.symbols('N')\n",
    "\n",
    "# binary variables X_0, ..., X_{N-1} with values in {0,1}\n",
    "# use sympy's IndexedBase for indexed variables\n",
    "X = sym.IndexedBase('X')\n",
    "\n",
    "# costs\n",
    "C = sym.IndexedBase('C')\n",
    "\n",
    "# penalty\n",
    "P = sym.symbols('P')\n",
    "\n",
    "# indices\n",
    "i = sym.symbols('i')\n",
    "\n",
    "# define cost function\n",
    "cost_function = (\n",
    "    sym.Sum( C[i] * X[i] , (i,0,N-1) ) +           # costs for element i\n",
    "    P * (sym.Sum( X[i], (i, 0, N-1) ) - 1 )**2)    # choose exactly one element\n",
    "\n",
    "# print cost function\n",
    "cost_function"
   ]
  },
  {
   "cell_type": "markdown",
   "metadata": {},
   "source": [
    "## Data input\n",
    "The data can be provided as python lists."
   ]
  },
  {
   "cell_type": "code",
   "execution_count": 2,
   "metadata": {},
   "outputs": [],
   "source": [
    "# data input\n",
    "\n",
    "TestN = 5\n",
    "TestC = [4,3,7,2,9]\n",
    "TestP = 50\n",
    "\n",
    "# set the number of Qubits to TestN\n",
    "\n",
    "num_qubits = TestN"
   ]
  },
  {
   "cell_type": "code",
   "execution_count": 3,
   "metadata": {},
   "outputs": [
    {
     "data": {
      "text/latex": [
       "$\\displaystyle \\operatorname{Poly}{\\left( 50 {X}_{0}^{2} + 100 {X}_{0}{X}_{1} + 100 {X}_{0}{X}_{2} + 100 {X}_{0}{X}_{3} + 100 {X}_{0}{X}_{4} - 96 {X}_{0} + 50 {X}_{1}^{2} + 100 {X}_{1}{X}_{2} + 100 {X}_{1}{X}_{3} + 100 {X}_{1}{X}_{4} - 97 {X}_{1} + 50 {X}_{2}^{2} + 100 {X}_{2}{X}_{3} + 100 {X}_{2}{X}_{4} - 93 {X}_{2} + 50 {X}_{3}^{2} + 100 {X}_{3}{X}_{4} - 98 {X}_{3} + 50 {X}_{4}^{2} - 91 {X}_{4} + 50, {X}_{0}, {X}_{1}, {X}_{2}, {X}_{3}, {X}_{4}, domain=\\mathbb{Z} \\right)}$"
      ],
      "text/plain": [
       "Poly(50*X[0]**2 + 100*X[0]*X[1] + 100*X[0]*X[2] + 100*X[0]*X[3] + 100*X[0]*X[4] - 96*X[0] + 50*X[1]**2 + 100*X[1]*X[2] + 100*X[1]*X[3] + 100*X[1]*X[4] - 97*X[1] + 50*X[2]**2 + 100*X[2]*X[3] + 100*X[2]*X[4] - 93*X[2] + 50*X[3]**2 + 100*X[3]*X[4] - 98*X[3] + 50*X[4]**2 - 91*X[4] + 50, X[0], X[1], X[2], X[3], X[4], domain='ZZ')"
      ]
     },
     "execution_count": 3,
     "metadata": {},
     "output_type": "execute_result"
    }
   ],
   "source": [
    "## transfer the data into a sympy polynomial in the variables X_i\n",
    "## adjust the dictionaries to your needs\n",
    "\n",
    "# translation of data into dictionaries for sympy\n",
    "single_valued_dict = {\n",
    "    N: TestN,\n",
    "    P: TestP\n",
    "}\n",
    "\n",
    "cost_dict = {\n",
    "    C[k]: TestC[k] for k in range(len(TestC))\n",
    "}\n",
    "\n",
    "# definition of the cost polynomial\n",
    "cost_poly = sym.Poly(cost_function\n",
    "                     .subs(single_valued_dict)\n",
    "                     .doit()\n",
    "                     .subs(cost_dict),\n",
    "                     [X[i] for i in range(num_qubits)])\n",
    "cost_poly"
   ]
  },
  {
   "cell_type": "markdown",
   "metadata": {},
   "source": [
    "## Solving on D-Wave's quantum annealing simulator"
   ]
  },
  {
   "cell_type": "markdown",
   "metadata": {},
   "source": [
    "First, the associated QUBO-matrix is visualized for the given number $N=TestN$ of Qubits, but for arbitrary costs. The following execution on the quantum hardware simulater is independent of this step."
   ]
  },
  {
   "cell_type": "code",
   "execution_count": 4,
   "metadata": {},
   "outputs": [
    {
     "data": {
      "text/html": [
       "<div>\n",
       "<style scoped>\n",
       "    .dataframe tbody tr th:only-of-type {\n",
       "        vertical-align: middle;\n",
       "    }\n",
       "\n",
       "    .dataframe tbody tr th {\n",
       "        vertical-align: top;\n",
       "    }\n",
       "\n",
       "    .dataframe thead th {\n",
       "        text-align: right;\n",
       "    }\n",
       "</style>\n",
       "<table border=\"1\" class=\"dataframe\">\n",
       "  <thead>\n",
       "    <tr style=\"text-align: right;\">\n",
       "      <th></th>\n",
       "      <th>0</th>\n",
       "      <th>1</th>\n",
       "      <th>2</th>\n",
       "      <th>3</th>\n",
       "      <th>4</th>\n",
       "    </tr>\n",
       "  </thead>\n",
       "  <tbody>\n",
       "    <tr>\n",
       "      <th>0</th>\n",
       "      <td>-P + C[0]</td>\n",
       "      <td>2*P</td>\n",
       "      <td>2*P</td>\n",
       "      <td>2*P</td>\n",
       "      <td>2*P</td>\n",
       "    </tr>\n",
       "    <tr>\n",
       "      <th>1</th>\n",
       "      <td>0</td>\n",
       "      <td>-P + C[1]</td>\n",
       "      <td>2*P</td>\n",
       "      <td>2*P</td>\n",
       "      <td>2*P</td>\n",
       "    </tr>\n",
       "    <tr>\n",
       "      <th>2</th>\n",
       "      <td>0</td>\n",
       "      <td>0</td>\n",
       "      <td>-P + C[2]</td>\n",
       "      <td>2*P</td>\n",
       "      <td>2*P</td>\n",
       "    </tr>\n",
       "    <tr>\n",
       "      <th>3</th>\n",
       "      <td>0</td>\n",
       "      <td>0</td>\n",
       "      <td>0</td>\n",
       "      <td>-P + C[3]</td>\n",
       "      <td>2*P</td>\n",
       "    </tr>\n",
       "    <tr>\n",
       "      <th>4</th>\n",
       "      <td>0</td>\n",
       "      <td>0</td>\n",
       "      <td>0</td>\n",
       "      <td>0</td>\n",
       "      <td>-P + C[4]</td>\n",
       "    </tr>\n",
       "  </tbody>\n",
       "</table>\n",
       "</div>"
      ],
      "text/plain": [
       "           0          1          2          3          4\n",
       "0  -P + C[0]        2*P        2*P        2*P        2*P\n",
       "1          0  -P + C[1]        2*P        2*P        2*P\n",
       "2          0          0  -P + C[2]        2*P        2*P\n",
       "3          0          0          0  -P + C[3]        2*P\n",
       "4          0          0          0          0  -P + C[4]"
      ]
     },
     "execution_count": 4,
     "metadata": {},
     "output_type": "execute_result"
    }
   ],
   "source": [
    "## QUBO-matrix visualization\n",
    "## not necessary for the following step\n",
    "\n",
    "# define sympy polynomial in the variables X_i without costs and penalty\n",
    "cost_poly_vis = sym.Poly(cost_function\n",
    "                     .subs({N:TestN})\n",
    "                     .doit(),\n",
    "                     [X[i] for i in range(num_qubits)])\n",
    "\n",
    "# generate QUBO-matrix for the given number of Qubits\n",
    "Qubo = { (i,j) : cost_poly_vis.coeff_monomial(X[i]**1 * X[j]**1) + ( cost_poly_vis.coeff_monomial(X[i]**1) if (i==j) else 0 )\n",
    "        for i in range(num_qubits) for j in range(i,num_qubits) }\n",
    "\n",
    "# visualization as pandas dataframe\n",
    "import pandas as pd\n",
    "\n",
    "visualization = [[0 for i in range(num_qubits)] for j in range(num_qubits)]\n",
    "for key, value in Qubo.items():\n",
    "    visualization[key[0]][key[1]] = value\n",
    "pd.DataFrame(visualization)"
   ]
  },
  {
   "cell_type": "markdown",
   "metadata": {},
   "source": [
    "Second, the QUBO-matrix with purely non-symbolic entries is created and the problem is executed on D-Wave's quantum annealing simulator."
   ]
  },
  {
   "cell_type": "code",
   "execution_count": 5,
   "metadata": {},
   "outputs": [
    {
     "name": "stdout",
     "output_type": "stream",
     "text": [
      "D-Wave simulator: [{0: 0, 1: 0, 2: 0, 3: 1, 4: 0}]\n"
     ]
    }
   ],
   "source": [
    "## execution on D-Wave's quantum annealing simulator\n",
    "\n",
    "# generate QUBO-matrix for the given number of Qubits\n",
    "Qubo = { (i,j) : (cost_poly.coeff_monomial(X[i]**1 * X[j]**1)\n",
    "                  + ( cost_poly.coeff_monomial(X[i]**1) if (i==j) else 0 ))\n",
    "        for i in range(num_qubits)\n",
    "        for j in range(i,num_qubits) }\n",
    "\n",
    "# execution on D-Wave simulator\n",
    "from dwave_qbsolv import QBSolv\n",
    "result_dwave = QBSolv().sample_qubo(Qubo)\n",
    "\n",
    "# print result\n",
    "print(\"D-Wave simulator: \" + str(list(result_dwave.samples())))"
   ]
  },
  {
   "cell_type": "markdown",
   "metadata": {},
   "source": [
    "## Solving with IBM's optimization module\n",
    "First, the data are transfered into IBM's optimization data structure and displayed."
   ]
  },
  {
   "cell_type": "code",
   "execution_count": 6,
   "metadata": {},
   "outputs": [
    {
     "name": "stdout",
     "output_type": "stream",
     "text": [
      "\\ This file has been generated by DOcplex\n",
      "\\ ENCODING=ISO-8859-1\n",
      "\\Problem name: CPLEX\n",
      "\n",
      "Minimize\n",
      " obj: - 96 X_0 - 97 X_1 - 93 X_2 - 98 X_3 - 91 X_4 + [ 100 X_0^2 + 200 X_0*X_1\n",
      "      + 200 X_0*X_2 + 200 X_0*X_3 + 200 X_0*X_4 + 100 X_1^2 + 200 X_1*X_2\n",
      "      + 200 X_1*X_3 + 200 X_1*X_4 + 100 X_2^2 + 200 X_2*X_3 + 200 X_2*X_4\n",
      "      + 100 X_3^2 + 200 X_3*X_4 + 100 X_4^2 ]/2\n",
      "Subject To\n",
      "\n",
      "Bounds\n",
      " 0 <= X_0 <= 1\n",
      " 0 <= X_1 <= 1\n",
      " 0 <= X_2 <= 1\n",
      " 0 <= X_3 <= 1\n",
      " 0 <= X_4 <= 1\n",
      "\n",
      "Binaries\n",
      " X_0 X_1 X_2 X_3 X_4\n",
      "End\n",
      "\n"
     ]
    }
   ],
   "source": [
    "import qiskit\n",
    "from qiskit.aqua.algorithms import QAOA\n",
    "from qiskit.optimization.algorithms import MinimumEigenOptimizer, RecursiveMinimumEigenOptimizer\n",
    "\n",
    "# generate qiskit's cost function\n",
    "qiskit_cost_function = qiskit.optimization.QuadraticProgram()\n",
    "\n",
    "# define qiskit variables\n",
    "for i in range(num_qubits):\n",
    "    qiskit_cost_function.binary_var('X_' + str(i))\n",
    "\n",
    "# specify qiskit cost function\n",
    "qiskit_cost_function.minimize(\n",
    "    linear = [int(cost_poly.coeff_monomial(X[i]**1)) for i in range(num_qubits)],\n",
    "    quadratic = {\n",
    "        ('X_'+str(i), 'X_'+str(j)): cost_poly.coeff_monomial(X[i]**1 * X[j]**1)\n",
    "        for i in range(num_qubits)\n",
    "        for j in range(i,num_qubits)\n",
    "    })\n",
    "\n",
    "# print qiskit cost function\n",
    "print(qiskit_cost_function.export_as_lp_string())"
   ]
  },
  {
   "cell_type": "markdown",
   "metadata": {},
   "source": [
    "Second, select the backend. Here, two simulator backends and a real quantum computer are chosen."
   ]
  },
  {
   "cell_type": "code",
   "execution_count": 7,
   "metadata": {},
   "outputs": [
    {
     "data": {
      "text/plain": [
       "[<IBMQSimulator('ibmq_qasm_simulator') from IBMQ(hub='ibm-q', group='open', project='main')>,\n",
       " <IBMQBackend('ibmqx2') from IBMQ(hub='ibm-q', group='open', project='main')>,\n",
       " <IBMQBackend('ibmq_16_melbourne') from IBMQ(hub='ibm-q', group='open', project='main')>,\n",
       " <IBMQBackend('ibmq_vigo') from IBMQ(hub='ibm-q', group='open', project='main')>,\n",
       " <IBMQBackend('ibmq_ourense') from IBMQ(hub='ibm-q', group='open', project='main')>,\n",
       " <IBMQBackend('ibmq_london') from IBMQ(hub='ibm-q', group='open', project='main')>,\n",
       " <IBMQBackend('ibmq_burlington') from IBMQ(hub='ibm-q', group='open', project='main')>,\n",
       " <IBMQBackend('ibmq_essex') from IBMQ(hub='ibm-q', group='open', project='main')>,\n",
       " <IBMQBackend('ibmq_armonk') from IBMQ(hub='ibm-q', group='open', project='main')>]"
      ]
     },
     "execution_count": 7,
     "metadata": {},
     "output_type": "execute_result"
    }
   ],
   "source": [
    "# local simulator\n",
    "backend_local_simulator = qiskit.BasicAer.get_backend('statevector_simulator')\n",
    "\n",
    "# import IBM account\n",
    "# for this, you first need to save your IBMQ token, see\n",
    "# https://qiskit.org/documentation/install.html\n",
    "from qiskit import IBMQ\n",
    "provider = IBMQ.load_account()\n",
    "\n",
    "# 5 qubit quantum computer\n",
    "backend_quantum = provider.get_backend('ibmq_london')\n",
    "\n",
    "# 32 qubit online simulator \n",
    "backend_online_simulator = provider.get_backend('ibmq_qasm_simulator')\n",
    "\n",
    "# print selectable backends\n",
    "# see https://quantum-computing.ibm.com/\n",
    "# for availability, queue length and maintanance \n",
    "provider.backends()"
   ]
  },
  {
   "cell_type": "markdown",
   "metadata": {},
   "source": [
    "Finally, solve the problem on all backends using QAOA."
   ]
  },
  {
   "cell_type": "code",
   "execution_count": 8,
   "metadata": {},
   "outputs": [],
   "source": [
    "# some round() function in qiskit is deprecated\n",
    "# turn off the corresponding warning\n",
    "import warnings\n",
    "warnings.filterwarnings('ignore')"
   ]
  },
  {
   "cell_type": "code",
   "execution_count": 9,
   "metadata": {},
   "outputs": [
    {
     "name": "stdout",
     "output_type": "stream",
     "text": [
      "QAOA on local simulator:  x=[0.0,0.0,0.0,1.0,0.0], fval=-48.0\n"
     ]
    }
   ],
   "source": [
    "# execute QAOA on local simulator\n",
    "qaoa1 = QAOA(quantum_instance = backend_local_simulator)\n",
    "optimizer1 = MinimumEigenOptimizer(qaoa1)\n",
    "result1 = optimizer1.solve(qiskit_cost_function)\n",
    "print(\"QAOA on local simulator: \", result1)"
   ]
  },
  {
   "cell_type": "code",
   "execution_count": 10,
   "metadata": {},
   "outputs": [
    {
     "name": "stderr",
     "output_type": "stream",
     "text": [
      "The skip Qobj validation does not work for IBMQ provider. Disable it.\n"
     ]
    },
    {
     "name": "stdout",
     "output_type": "stream",
     "text": [
      "QAOA on quantum computer:  x=[0.0,0.0,0.0,1.0,0.0], fval=-48.0\n"
     ]
    }
   ],
   "source": [
    "# execute QAOA on quantum hardware\n",
    "qaoa2 = QAOA(quantum_instance = backend_quantum)\n",
    "optimizer2 = MinimumEigenOptimizer(qaoa2)\n",
    "result2 = optimizer2.solve(qiskit_cost_function)\n",
    "print(\"QAOA on quantum computer: \", result2)"
   ]
  },
  {
   "cell_type": "code",
   "execution_count": 11,
   "metadata": {},
   "outputs": [
    {
     "name": "stderr",
     "output_type": "stream",
     "text": [
      "The skip Qobj validation does not work for IBMQ provider. Disable it.\n"
     ]
    },
    {
     "name": "stdout",
     "output_type": "stream",
     "text": [
      "QAOA on online simulator:  x=[0.0,0.0,0.0,1.0,0.0], fval=-48.0\n"
     ]
    }
   ],
   "source": [
    "# execute QAOA on online simulator\n",
    "qaoa3 = QAOA(quantum_instance = backend_online_simulator)\n",
    "optimizer3 = MinimumEigenOptimizer(qaoa3)\n",
    "result3 = optimizer3.solve(qiskit_cost_function)\n",
    "print(\"QAOA on online simulator: \", result3)"
   ]
  },
  {
   "cell_type": "code",
   "execution_count": null,
   "metadata": {},
   "outputs": [],
   "source": []
  }
 ],
 "metadata": {
  "kernelspec": {
   "display_name": "quantum",
   "language": "python",
   "name": "quantum"
  },
  "language_info": {
   "codemirror_mode": {
    "name": "ipython",
    "version": 3
   },
   "file_extension": ".py",
   "mimetype": "text/x-python",
   "name": "python",
   "nbconvert_exporter": "python",
   "pygments_lexer": "ipython3",
   "version": "3.7.7"
  }
 },
 "nbformat": 4,
 "nbformat_minor": 4
}
